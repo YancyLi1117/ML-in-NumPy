{
 "cells": [
  {
   "cell_type": "code",
   "execution_count": 1,
   "id": "839bc777",
   "metadata": {},
   "outputs": [],
   "source": [
    "import torch\n",
    "import torchvision\n",
    "import torchvision.transforms as transforms\n",
    "import torch.nn as nn\n",
    "import torch.optim as optim\n",
    "import torch.nn.functional as F\n",
    "import pickle\n",
    "import numpy as np"
   ]
  },
  {
   "cell_type": "code",
   "execution_count": 2,
   "id": "5bcb9ac9",
   "metadata": {},
   "outputs": [],
   "source": [
    "class MLP(nn.Module):\n",
    "    def __init__(self):\n",
    "        super(MLP, self).__init__()\n",
    "        self.fc1 = nn.Linear(2, 10)\n",
    "        self.fc2 = nn.Linear(10, 10)\n",
    "        self.fc3 = nn.Linear(10, 1)\n",
    "        self.relu = nn.ReLU()\n",
    "        self.sigmoid = nn.Sigmoid()\n",
    "\n",
    "    def forward(self, x):\n",
    "        x = self.relu(self.fc1(x))\n",
    "        x = self.relu(self.fc2(x))\n",
    "        x = self.fc3(x)\n",
    "        x = self.sigmoid(x)\n",
    "        \n",
    "        return x"
   ]
  },
  {
   "cell_type": "code",
   "execution_count": 3,
   "id": "cde2fc45",
   "metadata": {},
   "outputs": [],
   "source": [
    "def train(model, x_train, y_train, epochs=5):\n",
    "    \n",
    "    criterion = nn.MSELoss()\n",
    "    optimizer = optim.Adam(model.parameters(), lr=0.01)\n",
    "    train_loss_list = []\n",
    "    for epoch in range(epochs):  \n",
    "        \n",
    "        running_loss = 0.0\n",
    "        for inputs, targets in zip(x_train, y_train):\n",
    "            \n",
    "            optimizer.zero_grad()\n",
    "            outputs = model(inputs)\n",
    "            \n",
    "            loss = criterion(outputs, targets)\n",
    "            loss.backward()\n",
    "            optimizer.step()\n",
    "            running_loss += loss.item()\n",
    "            \n",
    "        train_loss_list.append(running_loss)\n",
    "        \n",
    "        print('Train Epoch: %i, Loss: %f' % (epoch+1, running_loss))\n",
    "    print('Finished Training')\n",
    "    return train_loss_list"
   ]
  },
  {
   "cell_type": "code",
   "execution_count": 4,
   "id": "63aa955e",
   "metadata": {},
   "outputs": [],
   "source": [
    "def dataloader():\n",
    "    \n",
    "    with open('param.pkl','rb') as f:\n",
    "        data = pickle.load(f)\n",
    "    inputs = torch.tensor(data['inputs']).float()\n",
    "    w1 = data[\"w1\"]\n",
    "    w2 = data[\"w2\"]\n",
    "    w3 = data[\"w3\"]\n",
    "    b1 = data[\"b1\"]\n",
    "    b2 = data[\"b2\"] \n",
    "    b3 = data[\"b3\"]\n",
    "    targets = torch.tensor(data['targets']).float()\n",
    "    params = [\n",
    "        (w1, b1),\n",
    "        (w2, b2),\n",
    "        (w3, b3)\n",
    "    ]\n",
    "    trainset = (inputs, targets)\n",
    "\n",
    "    return trainset, params\n"
   ]
  },
  {
   "cell_type": "code",
   "execution_count": 5,
   "id": "b84faccd",
   "metadata": {},
   "outputs": [
    {
     "name": "stderr",
     "output_type": "stream",
     "text": [
      "/Users/liyang/opt/anaconda3/lib/python3.9/site-packages/torch/nn/modules/loss.py:530: UserWarning: Using a target size (torch.Size([])) that is different to the input size (torch.Size([1])). This will likely lead to incorrect results due to broadcasting. Please ensure they have the same size.\n",
      "  return F.mse_loss(input, target, reduction=self.reduction)\n"
     ]
    },
    {
     "name": "stdout",
     "output_type": "stream",
     "text": [
      "Train Epoch: 1, Loss: 133.454646\n",
      "Train Epoch: 2, Loss: 100.823284\n",
      "Train Epoch: 3, Loss: 98.950021\n",
      "Train Epoch: 4, Loss: 97.195962\n",
      "Train Epoch: 5, Loss: 96.158900\n",
      "Finished Training\n"
     ]
    },
    {
     "data": {
      "text/plain": [
       "[133.45464649924543,\n",
       " 100.8232843612742,\n",
       " 98.95002082383508,\n",
       " 97.19596192679091,\n",
       " 96.15890031944195]"
      ]
     },
     "execution_count": 5,
     "metadata": {},
     "output_type": "execute_result"
    }
   ],
   "source": [
    "trainset, params = dataloader()\n",
    "model = MLP()\n",
    "\n",
    "model.fc1.weight.data = torch.tensor(params[0][0]).float()\n",
    "model.fc1.bias.data = torch.tensor(params[0][1]).float()\n",
    "model.fc2.weight.data = torch.tensor(params[1][0]).float()\n",
    "model.fc2.bias.data = torch.tensor(params[1][1]).float()\n",
    "model.fc3.weight.data = torch.tensor(params[2][0]).float()\n",
    "model.fc3.bias.data = torch.tensor(params[2][1]).float()\n",
    "train(model, trainset[0], trainset[1])"
   ]
  },
  {
   "cell_type": "code",
   "execution_count": 6,
   "id": "e25c6e44",
   "metadata": {},
   "outputs": [
    {
     "name": "stdout",
     "output_type": "stream",
     "text": [
      "----------------------------------------------------------------\n",
      "        Layer (type)               Output Shape         Param #\n",
      "================================================================\n",
      "            Linear-1               [1, 200, 10]              30\n",
      "              ReLU-2               [1, 200, 10]               0\n",
      "            Linear-3               [1, 200, 10]             110\n",
      "              ReLU-4               [1, 200, 10]               0\n",
      "            Linear-5                [1, 200, 1]              11\n",
      "           Sigmoid-6                [1, 200, 1]               0\n",
      "================================================================\n",
      "Total params: 151\n",
      "Trainable params: 151\n",
      "Non-trainable params: 0\n",
      "----------------------------------------------------------------\n",
      "Input size (MB): 0.00\n",
      "Forward/backward pass size (MB): 0.06\n",
      "Params size (MB): 0.00\n",
      "Estimated Total Size (MB): 0.07\n",
      "----------------------------------------------------------------\n"
     ]
    }
   ],
   "source": [
    "from torchsummary import summary\n",
    "summary(model,(200,2),batch_size=1,device=\"cpu\")"
   ]
  },
  {
   "cell_type": "code",
   "execution_count": 7,
   "id": "8b53d3fe",
   "metadata": {},
   "outputs": [
    {
     "data": {
      "text/plain": [
       "torch.Size([200])"
      ]
     },
     "execution_count": 7,
     "metadata": {},
     "output_type": "execute_result"
    }
   ],
   "source": []
  },
  {
   "cell_type": "code",
   "execution_count": null,
   "id": "19c6fd2e",
   "metadata": {},
   "outputs": [],
   "source": []
  }
 ],
 "metadata": {
  "kernelspec": {
   "display_name": "Python 3 (ipykernel)",
   "language": "python",
   "name": "python3"
  },
  "language_info": {
   "codemirror_mode": {
    "name": "ipython",
    "version": 3
   },
   "file_extension": ".py",
   "mimetype": "text/x-python",
   "name": "python",
   "nbconvert_exporter": "python",
   "pygments_lexer": "ipython3",
   "version": "3.9.7"
  }
 },
 "nbformat": 4,
 "nbformat_minor": 5
}
